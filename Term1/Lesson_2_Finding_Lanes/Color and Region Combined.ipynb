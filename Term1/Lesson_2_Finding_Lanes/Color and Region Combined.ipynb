{
 "cells": [
  {
   "cell_type": "code",
   "execution_count": 1,
   "metadata": {
    "collapsed": false
   },
   "outputs": [],
   "source": [
    "import matplotlib.pyplot as plt\n",
    "import matplotlib.image as mpimg\n",
    "import numpy as np\n",
    "\n",
    "# Read in the image\n",
    "image = mpimg.imread('test.jpg')\n",
    "\n",
    "# Grab the x and y sizes and make two copies of the image\n",
    "# With one copy we'll extract only the pixels that meet our selection,\n",
    "# then we'll paint those pixels red in the original image to see our selection \n",
    "# overlaid on the original.\n",
    "ysize = image.shape[0]\n",
    "xsize = image.shape[1]\n",
    "color_select= np.copy(image)\n",
    "line_image = np.copy(image)\n",
    "\n",
    "# Define our color criteria\n",
    "red_threshold = 0\n",
    "green_threshold = 0\n",
    "blue_threshold = 0\n",
    "rgb_threshold = [red_threshold, green_threshold, blue_threshold]\n",
    "\n",
    "# Define a triangle region of interest (Note: if you run this code, \n",
    "# Keep in mind the origin (x=0, y=0) is in the upper left in image processing\n",
    "# you'll find these are not sensible values!!\n",
    "# But you'll get a chance to play with them soon in a quiz ;)\n",
    "left_bottom = [130, 539]\n",
    "right_bottom = [850, 539]\n",
    "apex = [460, 320]\n",
    "\n",
    "fit_left = np.polyfit((left_bottom[0], apex[0]), (left_bottom[1], apex[1]), 1)\n",
    "fit_right = np.polyfit((right_bottom[0], apex[0]), (right_bottom[1], apex[1]), 1)\n",
    "fit_bottom = np.polyfit((left_bottom[0], right_bottom[0]), (left_bottom[1], right_bottom[1]), 1)\n",
    "\n",
    "# Mask pixels below the threshold\n",
    "color_thresholds = (image[:,:,0] < rgb_threshold[0]) | \\\n",
    "                    (image[:,:,1] < rgb_threshold[1]) | \\\n",
    "                    (image[:,:,2] < rgb_threshold[2])\n",
    "\n",
    "# Find the region inside the lines\n",
    "XX, YY = np.meshgrid(np.arange(0, xsize), np.arange(0, ysize))\n",
    "region_thresholds = (YY > (XX*fit_left[0] + fit_left[1])) & \\\n",
    "                    (YY > (XX*fit_right[0] + fit_right[1])) & \\\n",
    "                    (YY < (XX*fit_bottom[0] + fit_bottom[1]))\n",
    "# Mask color selection\n",
    "color_select[color_thresholds] = [0,0,0]\n",
    "# Find where image is both colored right and in the region\n",
    "line_image[~color_thresholds & region_thresholds] = [255,0,0]\n",
    "\n",
    "# Display our two output images\n",
    "plt.imshow(color_select)\n",
    "plt.show()\n",
    "plt.imshow(line_image)\n",
    "plt.show()"
   ]
  },
  {
   "cell_type": "code",
   "execution_count": 9,
   "metadata": {
    "collapsed": false
   },
   "outputs": [
    {
     "ename": "ImportError",
     "evalue": "No module named cv2",
     "output_type": "error",
     "traceback": [
      "\u001b[0;31m---------------------------------------------------------------------------\u001b[0m",
      "\u001b[0;31mImportError\u001b[0m                               Traceback (most recent call last)",
      "\u001b[0;32m<ipython-input-9-72fbbcfe2587>\u001b[0m in \u001b[0;36m<module>\u001b[0;34m()\u001b[0m\n\u001b[0;32m----> 1\u001b[0;31m \u001b[0;32mimport\u001b[0m \u001b[0mcv2\u001b[0m\u001b[0;34m\u001b[0m\u001b[0m\n\u001b[0m",
      "\u001b[0;31mImportError\u001b[0m: No module named cv2"
     ]
    }
   ],
   "source": [
    "import cv2"
   ]
  },
  {
   "cell_type": "code",
   "execution_count": null,
   "metadata": {
    "collapsed": true
   },
   "outputs": [],
   "source": []
  },
  {
   "cell_type": "code",
   "execution_count": null,
   "metadata": {
    "collapsed": true
   },
   "outputs": [],
   "source": []
  },
  {
   "cell_type": "code",
   "execution_count": null,
   "metadata": {
    "collapsed": true
   },
   "outputs": [],
   "source": []
  }
 ],
 "metadata": {
  "kernelspec": {
   "display_name": "Python 2",
   "language": "python",
   "name": "python2"
  },
  "language_info": {
   "codemirror_mode": {
    "name": "ipython",
    "version": 2
   },
   "file_extension": ".py",
   "mimetype": "text/x-python",
   "name": "python",
   "nbconvert_exporter": "python",
   "pygments_lexer": "ipython2",
   "version": "2.7.11"
  }
 },
 "nbformat": 4,
 "nbformat_minor": 2
}
