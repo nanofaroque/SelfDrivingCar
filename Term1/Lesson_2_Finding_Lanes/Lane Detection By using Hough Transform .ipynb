{
 "cells": [
  {
   "cell_type": "code",
   "execution_count": 52,
   "metadata": {
    "collapsed": true
   },
   "outputs": [],
   "source": [
    "import matplotlib.pyplot as plt\n",
    "import matplotlib.image as mpimg\n",
    "import numpy as np\n",
    "import cv2\n",
    "%matplotlib inline "
   ]
  },
  {
   "cell_type": "code",
   "execution_count": 53,
   "metadata": {
    "collapsed": true
   },
   "outputs": [],
   "source": [
    "# Read in and grayscale the image\n",
    "image = mpimg.imread('exit-ramp.jpg')\n",
    "gray = cv2.cvtColor(image,cv2.COLOR_RGB2GRAY)\n",
    "\n",
    "# Define a kernel size and apply Gaussian smoothing\n",
    "kernel_size = 5\n",
    "blur_gray = cv2.GaussianBlur(gray,(kernel_size, kernel_size),0)\n",
    "\n",
    "# Define our parameters for Canny and apply\n",
    "low_threshold = 50\n",
    "high_threshold = 150\n",
    "edges = cv2.Canny(blur_gray, low_threshold, high_threshold)"
   ]
  },
  {
   "cell_type": "code",
   "execution_count": 54,
   "metadata": {
    "collapsed": true
   },
   "outputs": [],
   "source": [
    "rho = 1\n",
    "theta = np.pi/180\n",
    "threshold= 150\n",
    "min_line_length=5\n",
    "max_line_gap = 10\n",
    "line_image = np.copy(image)*0 # it just create an image with same size of 'image' and filled with zero"
   ]
  },
  {
   "cell_type": "code",
   "execution_count": 55,
   "metadata": {
    "collapsed": true
   },
   "outputs": [],
   "source": [
    "lines = cv2.HoughLinesP(edges, rho, theta, threshold,np.array([]),min_line_length,max_line_gap)"
   ]
  },
  {
   "cell_type": "code",
   "execution_count": 56,
   "metadata": {
    "collapsed": false
   },
   "outputs": [],
   "source": [
    "for line in lines:\n",
    "    for x1,y1,x2,y2 in line:\n",
    "        cv2.line(line_image,(x1,y1),(x2,y2),(255,0,0,),10)"
   ]
  },
  {
   "cell_type": "code",
   "execution_count": 57,
   "metadata": {
    "collapsed": false
   },
   "outputs": [
    {
     "data": {
      "image/png": "[encoded data removed]",
      "text/plain": [
       "<matplotlib.figure.Figure at 0x11765b050>"
      ]
     },
     "metadata": {},
     "output_type": "display_data"
    }
   ],
   "source": [
    "color_edges = np.dstack((edges,edges,edges))\n",
    "combo = cv2.addWeighted(color_edges, .8, line_image, 1,0)\n",
    "plt.imshow(combo)\n",
    "plt.show()"
   ]
  },
  {
   "cell_type": "code",
   "execution_count": 58,
   "metadata": {
    "collapsed": false
   },
   "outputs": [
    {
     "name": "stdout",
     "output_type": "stream",
     "text": [
      "[[[ 89 151 200]\n",
      "  [ 91 153 202]\n",
      "  [ 93 155 204]\n",
      "  ..., \n",
      "  [ 90 150 202]\n",
      "  [ 90 150 202]\n",
      "  [ 90 150 202]]\n",
      "\n",
      " [[ 90 152 201]\n",
      "  [ 91 153 202]\n",
      "  [ 93 155 204]\n",
      "  ..., \n",
      "  [ 90 150 202]\n",
      "  [ 90 150 202]\n",
      "  [ 90 150 202]]\n",
      "\n",
      " [[ 90 152 201]\n",
      "  [ 91 153 202]\n",
      "  [ 93 155 204]\n",
      "  ..., \n",
      "  [ 89 149 201]\n",
      "  [ 89 149 201]\n",
      "  [ 89 149 201]]\n",
      "\n",
      " ..., \n",
      " [[106 109 116]\n",
      "  [104 107 114]\n",
      "  [103 106 113]\n",
      "  ..., \n",
      "  [ 93  90  97]\n",
      "  [ 92  89  96]\n",
      "  [ 91  88  95]]\n",
      "\n",
      " [[106 109 116]\n",
      "  [104 107 114]\n",
      "  [103 106 113]\n",
      "  ..., \n",
      "  [ 92  89  96]\n",
      "  [ 91  88  95]\n",
      "  [ 89  86  93]]\n",
      "\n",
      " [[105 108 115]\n",
      "  [104 107 114]\n",
      "  [104 107 114]\n",
      "  ..., \n",
      "  [ 97  94 101]\n",
      "  [ 95  92  99]\n",
      "  [ 94  91  98]]]\n"
     ]
    }
   ],
   "source": [
    "print image"
   ]
  },
  {
   "cell_type": "code",
   "execution_count": 59,
   "metadata": {
    "collapsed": false
   },
   "outputs": [
    {
     "name": "stdout",
     "output_type": "stream",
     "text": [
      "(540, 960, 3)\n"
     ]
    }
   ],
   "source": [
    "print image.shape"
   ]
  },
  {
   "cell_type": "code",
   "execution_count": 62,
   "metadata": {
    "collapsed": false
   },
   "outputs": [
    {
     "name": "stdout",
     "output_type": "stream",
     "text": [
      "[[1, 2], [2, 5]]\n"
     ]
    }
   ],
   "source": [
    "vec = [[1,2],[2,5]]\n",
    "print vec"
   ]
  },
  {
   "cell_type": "code",
   "execution_count": 65,
   "metadata": {
    "collapsed": true
   },
   "outputs": [],
   "source": [
    "ans = np.copy(vec)*0"
   ]
  },
  {
   "cell_type": "code",
   "execution_count": 66,
   "metadata": {
    "collapsed": false
   },
   "outputs": [
    {
     "data": {
      "text/plain": [
       "array([[0, 0],\n",
       "       [0, 0]])"
      ]
     },
     "execution_count": 66,
     "metadata": {},
     "output_type": "execute_result"
    }
   ],
   "source": [
    "ans"
   ]
  },
  {
   "cell_type": "code",
   "execution_count": null,
   "metadata": {
    "collapsed": true
   },
   "outputs": [],
   "source": []
  }
 ],
 "metadata": {
  "kernelspec": {
   "display_name": "Python 2",
   "language": "python",
   "name": "python2"
  },
  "language_info": {
   "codemirror_mode": {
    "name": "ipython",
    "version": 2
   },
   "file_extension": ".py",
   "mimetype": "text/x-python",
   "name": "python",
   "nbconvert_exporter": "python",
   "pygments_lexer": "ipython2",
   "version": "2.7.11"
  }
 },
 "nbformat": 4,
 "nbformat_minor": 0
}
